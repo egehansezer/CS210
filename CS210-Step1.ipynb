{
 "cells": [
  {
   "cell_type": "markdown",
   "metadata": {},
   "source": [
    "EGEHAN SEZER"
   ]
  },
  {
   "cell_type": "code",
   "execution_count": 14,
   "metadata": {},
   "outputs": [],
   "source": [
    "import csv\n",
    "import reverse_geocoder as gc\n",
    "from pandas import read_csv\n",
    "from geopy.distance import great_circle\n",
    "from datetime import datetime\n",
    "from scipy.stats import ttest_ind as ttest\n"
   ]
  },
  {
   "cell_type": "code",
   "execution_count": 15,
   "metadata": {},
   "outputs": [],
   "source": [
    "d = read_csv('taxi-trips.xls')"
   ]
  },
  {
   "cell_type": "code",
   "execution_count": 16,
   "metadata": {},
   "outputs": [],
   "source": [
    "pickup_points = [i['name'] for i in\n",
    "                 gc.search(\n",
    "                     d.apply(lambda x:\n",
    "                                  (x.pickup_latitude, \n",
    "                                   x.pickup_longitude), axis=1).tolist())]\n",
    "dropoff_points = [i['name'] for i in gc.search(\n",
    "    d.apply(lambda x: (\n",
    "        x.dropoff_latitude, \n",
    "        x.dropoff_longitude), axis=1).tolist())]"
   ]
  },
  {
   "cell_type": "code",
   "execution_count": 17,
   "metadata": {},
   "outputs": [],
   "source": [
    "d['pickup_district'] = pickup_points\n",
    "d['dropoff_district'] = dropoff_points"
   ]
  },
  {
   "cell_type": "code",
   "execution_count": 23,
   "metadata": {},
   "outputs": [
    {
     "data": {
      "text/plain": [
       "<matplotlib.axes._subplots.AxesSubplot at 0x1c9069efb70>"
      ]
     },
     "execution_count": 23,
     "metadata": {},
     "output_type": "execute_result"
    },
    {
     "data": {
      "image/png": "[encoded data removed]",
      "text/plain": [
       "<Figure size 432x288 with 1 Axes>"
      ]
     },
     "metadata": {
      "needs_background": "light"
     },
     "output_type": "display_data"
    }
   ],
   "source": [
    "from collections import Counter\n",
    "counts = Counter(d['pickup_district'])\n",
    "counts.most_common()[:5]\n",
    "d['pickup_district'].value_counts().head(5).plot.bar()"
   ]
  },
  {
   "cell_type": "code",
   "execution_count": 24,
   "metadata": {},
   "outputs": [
    {
     "data": {
      "text/plain": [
       "<matplotlib.axes._subplots.AxesSubplot at 0x1c9108d50b8>"
      ]
     },
     "execution_count": 24,
     "metadata": {},
     "output_type": "execute_result"
    },
    {
     "data": {
      "image/png": "[encoded data removed]",
      "text/plain": [
       "<Figure size 432x288 with 1 Axes>"
      ]
     },
     "metadata": {
      "needs_background": "light"
     },
     "output_type": "display_data"
    }
   ],
   "source": [
    "counts = Counter(d['dropoff_district'])\n",
    "counts.most_common()[:5]\n",
    "d['dropoff_district'].value_counts().head(5).plot.bar()"
   ]
  },
  {
   "cell_type": "code",
   "execution_count": 26,
   "metadata": {},
   "outputs": [],
   "source": [
    "a = []\n",
    "for i,j,k,l in zip(\n",
    "    d.pickup_latitude,\n",
    "    d.pickup_longitude, \n",
    "    d.dropoff_latitude,\n",
    "    d.dropoff_longitude):\n",
    "    \n",
    "    a += [great_circle((i,j),(k,l)).kilometers]\n",
    "\n",
    "d['distance'] = a"
   ]
  },
  {
   "cell_type": "code",
   "execution_count": 27,
   "metadata": {},
   "outputs": [],
   "source": [
    "def dt(dtime):\n",
    "    return datetime.strptime(dtime,'%Y-%m-%d %H:%M:%S')\n",
    "\n",
    "def tod(dtime):\n",
    "    if 7 <= dt(dtime).hour < 9:\n",
    "        return \"Rush-Hour-Morning\"\n",
    "    elif 9 <= dt(dtime).hour < 16:\n",
    "        return \"Afternoon\"\n",
    "    elif 16 <= dt(dtime).hour < 18:\n",
    "        return \"Rush-Hour-Evening\"\n",
    "    elif dt(dtime).hour < 23:\n",
    "        return \"Evening\"\n",
    "    else:\n",
    "        return \"Late-Night\"\n",
    "a = []\n",
    "for x in d.pickup_datetime:\n",
    "    a+=[tod(x)]\n",
    "d['time-of-the-day'] = a"
   ]
  },
  {
   "cell_type": "code",
   "execution_count": 28,
   "metadata": {},
   "outputs": [],
   "source": [
    "a = []\n",
    "for x,y in zip(\n",
    "    d.dropoff_datetime,\n",
    "    d.pickup_datetime):\n",
    "    dif = dt(x)-dt(y)\n",
    "    a+=[dif.total_seconds()]\n",
    "d['duration'] = a"
   ]
  },
  {
   "cell_type": "code",
   "execution_count": 30,
   "metadata": {},
   "outputs": [
    {
     "name": "stdout",
     "output_type": "stream",
     "text": [
      "Afternoon \t 3.1085221968242167\n",
      "Late-Night \t 4.013648996044528\n",
      "Evening \t 3.619583225305624\n",
      "Rush-Hour-Morning \t 3.1269697354329646\n",
      "Rush-Hour-Evening \t 3.3411725849919445\n"
     ]
    },
    {
     "data": {
      "text/plain": [
       "<matplotlib.axes._subplots.AxesSubplot at 0x1c9f7800b70>"
      ]
     },
     "execution_count": 30,
     "metadata": {},
     "output_type": "execute_result"
    },
    {
     "data": {
      "image/png": "[encoded data removed]",
      "text/plain": [
       "<Figure size 432x288 with 1 Axes>"
      ]
     },
     "metadata": {
      "needs_background": "light"
     },
     "output_type": "display_data"
    }
   ],
   "source": [
    "for t in set(d['time-of-the-day']):\n",
    "    print(t,'\\t',d[d['time-of-the-day']==t].distance.mean())\n",
    "d[['time-of-the-day','distance']].groupby('time-of-the-day').mean().plot.bar()"
   ]
  },
  {
   "cell_type": "code",
   "execution_count": 31,
   "metadata": {},
   "outputs": [
    {
     "name": "stdout",
     "output_type": "stream",
     "text": [
      "Afternoon \t 963.9227460253572 seconds\n",
      "Late-Night \t 912.2391106251139 seconds\n",
      "Evening \t 880.0437396311115 seconds\n",
      "Rush-Hour-Morning \t 918.4887158766138 seconds\n",
      "Rush-Hour-Evening \t 1024.4945520581114 seconds\n"
     ]
    },
    {
     "data": {
      "text/plain": [
       "<matplotlib.axes._subplots.AxesSubplot at 0x1c9f7936550>"
      ]
     },
     "execution_count": 31,
     "metadata": {},
     "output_type": "execute_result"
    },
    {
     "data": {
      "image/png": "[encoded data removed]",
      "text/plain": [
       "<Figure size 432x288 with 1 Axes>"
      ]
     },
     "metadata": {
      "needs_background": "light"
     },
     "output_type": "display_data"
    }
   ],
   "source": [
    "for t in set(d['time-of-the-day']):\n",
    "    print(t,'\\t',d[d['time-of-the-day']==t].duration.mean(),'seconds')\n",
    "d[['time-of-the-day','duration']].groupby('time-of-the-day').mean().plot.bar()"
   ]
  },
  {
   "cell_type": "markdown",
   "metadata": {},
   "source": [
    "HYPOTHESIS TESTING\n",
    "--"
   ]
  },
  {
   "cell_type": "markdown",
   "metadata": {},
   "source": [
    "Distance is longer for larger groups"
   ]
  },
  {
   "cell_type": "code",
   "execution_count": 38,
   "metadata": {},
   "outputs": [
    {
     "name": "stdout",
     "output_type": "stream",
     "text": [
      "898.4021780392901 998.784384313494\n",
      "Reject Null Hypothesis!\n"
     ]
    }
   ],
   "source": [
    "onepassenger = d.passenger_count<=1;\n",
    "\n",
    "print (d[onepassenger].duration.mean(), d[~onepassenger].duration.mean())\n",
    "test = ttest(d[onepassenger].distance, d[~onepassenger].distance)\n",
    "\n",
    "if test[1] >= 0.05:\n",
    "    print ('Null Cannot Be Rejected')\n",
    "else:\n",
    "    print ('Reject Null Hypothesis!')"
   ]
  },
  {
   "cell_type": "markdown",
   "metadata": {},
   "source": [
    "Distance is longer on weekdays"
   ]
  },
  {
   "cell_type": "code",
   "execution_count": 39,
   "metadata": {},
   "outputs": [
    {
     "name": "stdout",
     "output_type": "stream",
     "text": [
      "893.4216166388201 941.2284026787746\n",
      "Reject Null Hypothesis!\n"
     ]
    }
   ],
   "source": [
    "week_end =[] ;\n",
    "week_day =[] ;\n",
    "\n",
    "for i in d.pickup_datetime:\n",
    "    week_end+=[dt(i).weekday()>4]\n",
    "    week_day+=[not dt(i).weekday()>4]\n",
    "\n",
    "print (d[week_end].duration.mean(), d[week_day].duration.mean())\n",
    "test = ttest(d[week_end].distance, d[week_day].distance)\n",
    "\n",
    "if test[1] >= 0.05:\n",
    "    print ('Null Cannot Be Rejected')\n",
    "else:\n",
    "    print ('Reject Null Hypothesis!')"
   ]
  },
  {
   "cell_type": "code",
   "execution_count": null,
   "metadata": {},
   "outputs": [],
   "source": []
  }
 ],
 "metadata": {
  "kernelspec": {
   "display_name": "Python 3",
   "language": "python",
   "name": "python3"
  },
  "language_info": {
   "codemirror_mode": {
    "name": "ipython",
    "version": 3
   },
   "file_extension": ".py",
   "mimetype": "text/x-python",
   "name": "python",
   "nbconvert_exporter": "python",
   "pygments_lexer": "ipython3",
   "version": "3.7.1"
  }
 },
 "nbformat": 4,
 "nbformat_minor": 2
}
